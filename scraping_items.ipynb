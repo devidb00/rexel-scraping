{
 "cells": [
  {
   "cell_type": "code",
   "execution_count": null,
   "metadata": {},
   "outputs": [],
   "source": [
    "import requests\n",
    "import pandas as pd\n",
    "from bs4 import BeautifulSoup\n",
    "\n",
    "headers: dict = {\n",
    "    'Accept': 'application/json, text/javascript, */*; q=0.01',\n",
    "    'Accept-Language': 'fr-FR,fr;q=0.9,en-US;q=0.8,en;q=0.7',\n",
    "    'Connection': 'keep-alive',\n",
    "    'Cookie': \"JSESSIONID=714DEE803F60F70A0D22D568A513660B.app1; Path=/frx; Secure; HttpOnly; SameSite=None\",\n",
    "    'Referer': 'https://www.rexel.fr/frx/Cat%C3%A9gorie/R%C3%A9seau-informatique/Produit-cuivre/Prise-et-connecteur-de-type-RJ45-pour-r%C3%A9seau-LAN/Actassi-S-One-connecteur-RJ45-cat%C3%A9gorie-6-blind%C3%A9/SCHVDIB17726B12/p/69617534',\n",
    "    'Sec-Fetch-Dest': 'empty',\n",
    "    'Sec-Fetch-Mode': 'cors',\n",
    "    'Sec-Fetch-Site': 'same-origin',\n",
    "    'User-Agent': 'Mozilla/5.0 (Macintosh; Intel Mac OS X 10_15_7) AppleWebKit/537.36 (KHTML, like Gecko) Chrome/120.0.0.0 Safari/537.36',\n",
    "    'X-Requested-With': 'XMLHttpRequest',\n",
    "    'sec-ch-ua': '\"Not_A Brand\";v=\"8\", \"Chromium\";v=\"120\", \"Google Chrome\";v=\"120\"',\n",
    "    'sec-ch-ua-mobile': '?0',\n",
    "    'sec-ch-ua-platform': \"macOS\"\n",
    "}\n",
    "\n",
    "def get_price(ids: str) -> dict:\n",
    "    url: str = f'https://www.rexel.fr/frx/erp/getPrice.json?products={ids}'\n",
    "    response: dict = requests.get(url, headers=headers)\n",
    "    \n",
    "    return response.json()\n",
    "\n",
    "def scrap_data(html: BeautifulSoup, k_products: int = 10) -> pd.DataFrame:\n",
    "    df: pd.DataFrame = pd.DataFrame(\n",
    "        data=[],\n",
    "        columns=['id', 'category', 'brand', 'name', 'image-url']\n",
    "    )\n",
    "    product_divs: list = html.find_all(attrs='product-list-item')[:k_products]\n",
    "\n",
    "    for idx, product_div in enumerate(product_divs):\n",
    "        df.loc[idx] = {\n",
    "            'id': product_div.get('id'),\n",
    "            'category': product_div.get('data-category'),\n",
    "            'brand': product_div.get('data-productbrand'),\n",
    "            'name': product_div.get('data-product-name'),\n",
    "            'image-url': product_div.get('data-product-image-url'),\n",
    "        }\n",
    "    df: pd.DataFrame = df.query('category.notna()').reset_index().drop('index', axis=1)\n",
    "\n",
    "    # Query items price\n",
    "    product_ids: str = df['id'].str.cat(sep=\"|\")\n",
    "    df['price_HT']: pd.Series = [p['price'] for p in get_price(product_ids)]\n",
    "    \n",
    "    return df\n",
    "\n",
    "def search_products(query: str) -> pd.DataFrame:\n",
    "    url_website: str = f\"https://www.rexel.fr/frx/search?text={query}\"\n",
    "    html: BeautifulSoup = BeautifulSoup(requests.get(url_website, headers=headers).content, 'html.parser')\n",
    "\n",
    "    return scrap_data(html)"
   ]
  },
  {
   "cell_type": "code",
   "execution_count": null,
   "metadata": {},
   "outputs": [],
   "source": [
    "query: str = \"Cable USB C\"\n",
    "search_products(query)"
   ]
  },
  {
   "cell_type": "code",
   "execution_count": null,
   "metadata": {},
   "outputs": [],
   "source": []
  }
 ],
 "metadata": {
  "kernelspec": {
   "display_name": "chromadb",
   "language": "python",
   "name": "python3"
  },
  "language_info": {
   "codemirror_mode": {
    "name": "ipython",
    "version": 3
   },
   "file_extension": ".py",
   "mimetype": "text/x-python",
   "name": "python",
   "nbconvert_exporter": "python",
   "pygments_lexer": "ipython3",
   "version": "3.9.17"
  }
 },
 "nbformat": 4,
 "nbformat_minor": 2
}
